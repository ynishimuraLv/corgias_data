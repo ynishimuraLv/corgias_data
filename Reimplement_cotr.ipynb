{
 "cells": [
  {
   "cell_type": "code",
   "execution_count": 1,
   "id": "366dc8c4-cf0d-4fb5-b5b6-94a189327671",
   "metadata": {},
   "outputs": [],
   "source": [
    "import ete3 as et\n",
    "import numpy as np\n",
    "import pandas as pd\n",
    "import polars as pl\n",
    "\n",
    "import time\n",
    "\n",
    "from multiprocessing import Pool"
   ]
  },
  {
   "cell_type": "code",
   "execution_count": 2,
   "id": "7d6679e1-d06c-477b-8b64-9fb597ba9258",
   "metadata": {},
   "outputs": [],
   "source": [
    "def cotr_corgias(df, cores, gpu=False, num_blocks=0):\n",
    "    ogs = ((i, row) for i, row in df.T.iterrows())\n",
    "    with Pool(processes=cores) as process:\n",
    "        count = process.starmap_async(count_transition, ogs).get()\n",
    "                \n",
    "    num_genomes = df.shape[0] - 1\n",
    "    result =run_transition(count, gpu, num_blocks, num_genomes)\n",
    "\n",
    "    return result\n",
    "\n",
    "def count_transition(og, row):\n",
    "    row = np.array(row)\n",
    "    shifted = row.copy()[1:]\n",
    "    transition = shifted - row[:-1]\n",
    "    for i in range(len(transition) -1):\n",
    "        if transition[i] + transition[i+1] == 0:\n",
    "            transition[i+1] = 0\n",
    "\n",
    "    num_transition = np.count_nonzero(transition)\n",
    "\n",
    "    return og, transition, num_transition\n",
    "\n",
    "def run_transition(count, gpu, num_blocks, N):\n",
    "    og_names = [ sublist[0] for sublist in count ]\n",
    "    t_matrix = np.vstack([ sublist[1] for sublist in count ])\n",
    "    num_transition = np.vstack([ sublist[2] for sublist in count ])\n",
    "    k = calculate_k(t_matrix, gpu, num_blocks)\n",
    "    result = transition_count2df(k, num_transition, og_names, N)\n",
    "\n",
    "    return result\n",
    "\n",
    "def calculate_k(t_matrix, gpu=False, num_blocks=0):\n",
    "    if gpu:\n",
    "        if num_blocks == 0:\n",
    "\n",
    "            df = cp.asarray(t_matrix, dtype=cp.int16)\n",
    "            df_T = cp.asarray(t_matrix.transpose(), dtype=cp.int16)\n",
    "            k = cp.asnumpy(cp.dot(df, df_T))\n",
    "        else:\n",
    "            block_size = t_matrix.shape[0] // num_blocks\n",
    "            k = block_dot(t_matrix, t_matrix.transpose(), block_size)\n",
    "    else:\n",
    "        k = np.dot(t_matrix, t_matrix.transpose())\n",
    "\n",
    "    return k\n",
    "\n",
    "def transition_count2df(k, num_transition, og_names, N):\n",
    "    indices = flatten_indices(k)\n",
    "    og_names = pl.DataFrame(og_names).with_row_index('index').select(\n",
    "               pl.col('index').cast(pl.Int64), pl.col('column_0').alias('OG'))\n",
    "    num_transition = pl.DataFrame(num_transition).with_row_index('index').select(\n",
    "                 pl.col('index').cast(pl.Int64), pl.col('column_0').alias('num_transition'))\n",
    "\n",
    "    indices = indices.join(\n",
    "             og_names, left_on='column_0', right_on='index'\n",
    "             ).rename({'OG':'OG1'}).join(\n",
    "             og_names, left_on='column_1', right_on='index'\n",
    "             ).rename({'OG':'OG2'}).join(\n",
    "             num_transition, left_on='column_0', right_on='index'\n",
    "             ).rename({'num_transition':'num_change1'}).join(\n",
    "             num_transition, left_on='column_1', right_on='index'\n",
    "             ).rename({'num_transition':'num_change2'}).select(\n",
    "             ['OG1', 'OG2', 'num_change1', 'num_change2']\n",
    "             )\n",
    "    k = uppermatrix2vector(k)\n",
    "    k = pl.DataFrame({'k':k})\n",
    "    result = pl.concat([indices, k], how='horizontal')\n",
    "    df = result.with_columns(N).rename({'literal':'N'})\n",
    "\n",
    "    return df\n",
    "\n",
    "def uppermatrix2vector(matrix):\n",
    "    rows, _ = matrix.shape\n",
    "    upper_triangle_indices = np.triu_indices(rows, k=1)\n",
    "    upper_triangle = matrix[upper_triangle_indices]\n",
    "    return upper_triangle\n",
    "\n",
    "\n",
    "def flatten_indices(df):\n",
    "    rows, _ = df.shape\n",
    "    upper_indices = np.triu_indices(rows, k = 1)\n",
    "    indices = pl.DataFrame(np.vstack(upper_indices).T)\n",
    "\n",
    "    return indices"
   ]
  },
  {
   "cell_type": "code",
   "execution_count": 3,
   "id": "adc6deee-08fa-45ae-b56e-63e5b711ab9a",
   "metadata": {},
   "outputs": [],
   "source": [
    "# modified from https://github.com/lab83bio/Cotransitions/blob/master/cotr_transitions.py\n",
    "\n",
    "def cotr_original(csv, count_consecutive, outfile):\n",
    "\n",
    "    ngenes, norgs = len(csv.index), len(csv.columns)\n",
    "\n",
    "    tr = csv.diff(axis=1) \n",
    "    tr = tr.applymap(lambda x: 1 if x>1 else -1 if x<-1 else x) \n",
    "\n",
    "    tr_l = tr.values.tolist()\n",
    "\n",
    "    if not count_consecutive: #count only once consecutive state transitions (-1,1)\n",
    "    \tfor r in tr_l:\n",
    "    \t\tfor i in range(len(r)-1):\n",
    "    \t\t\tif (r[i]+r[i+1]==0):\n",
    "    \t\t\t\tr[i+1]=0\n",
    "\n",
    "    # sets for fast comparison\n",
    "    t01 = [set(np.nonzero(row > 0)[0]) for row in np.array(tr_l)] # 0->1 transitons\n",
    "    t10 = [set(np.nonzero(row < 0)[0]) for row in np.array(tr_l)] # 1->0 transitons\n",
    "    tt = [len(a | b) for a,b in zip(t01,t10)] #total transitions\n",
    "\n",
    "    # sys.stderr.write(\"done transitions\\n\")\n",
    "\n",
    "    #    print('Orthogroup1','Orthogroup2','orgs','t1','t2','c','d','k', sep=\"\\t\")\n",
    "    data = []\n",
    "    for i in range(ngenes-1):\n",
    "        for j in range(i+1,ngenes):\n",
    "            concordant = len(t01[i] & t01[j]) + len(t10[i] & t10[j])\n",
    "            discordant = len(t10[i] & t01[j]) + len(t01[i] & t10[j])\n",
    "            k = concordant - discordant\n",
    "#            if abs(k) >= args.min_transitions:\n",
    "#                print(tr.index[i],tr.index[j], norgs, tt[i], tt[j], concordant, discordant, k, sep='\\t')\n",
    "            data.append([tr.index[i],tr.index[j], norgs, tt[i], tt[j], concordant, discordant, k])\n",
    "    df = pl.DataFrame(\n",
    "        data, schema=[\"gene1\", \"gene2\", \"norgs\", \"t1\", \"t2\", \"concordant\", \"discordant\", \"k\"],\n",
    "        orient='row'\n",
    "    )\n",
    "    df.write_csv(outfile, separator=\"\\t\")"
   ]
  },
  {
   "cell_type": "code",
   "execution_count": 4,
   "id": "295d8f8e-cebc-43aa-ba42-ec259b6d5496",
   "metadata": {},
   "outputs": [
    {
     "name": "stdout",
     "output_type": "stream",
     "text": [
      "247.6375172138214\n"
     ]
    }
   ],
   "source": [
    "# run original cotr\n",
    "tree = et.Tree('simulation/tree2K.tre')\n",
    "order = [ leaf.name for leaf in tree.get_leaves() ]\n",
    "csv = pd.read_csv('simulation/df4tree2K.csv')\n",
    "csv = csv.rename(columns={'Unnamed: 0':'org'}).set_index('org').T\n",
    "csv = csv.loc[:, order]\n",
    "\n",
    "start = time.time()\n",
    "cotr_original(csv, False, 'original_cotr.csv')\n",
    "end = time.time()\n",
    "print(end-start)"
   ]
  },
  {
   "cell_type": "code",
   "execution_count": 5,
   "id": "b734dfac-cfb8-44ea-ad50-2505495aa01a",
   "metadata": {},
   "outputs": [
    {
     "name": "stdout",
     "output_type": "stream",
     "text": [
      "32.336382150650024\n"
     ]
    }
   ],
   "source": [
    "# run CORGIAS cotr with 1 CPU \n",
    "df = pl.read_csv('simulation/df4tree2K.csv').to_pandas()\n",
    "index = df.columns[0]\n",
    "df.set_index(index, inplace=True)\n",
    "df = df.loc[order]\n",
    "\n",
    "start = time.time()\n",
    "cotr = cotr_corgias(df, 1)\n",
    "cotr.write_csv('corgias_cotr.csv')\n",
    "end = time.time()\n",
    "print(end-start)"
   ]
  },
  {
   "cell_type": "code",
   "execution_count": 6,
   "id": "d11244b6-7691-4dcd-a2fb-0ada7ceb6a9f",
   "metadata": {},
   "outputs": [],
   "source": [
    "corgias_result = pl.read_csv('corgias_cotr.csv')\n",
    "original_result = pl.read_csv('original_cotr.csv', separator='\\t')"
   ]
  },
  {
   "cell_type": "code",
   "execution_count": 7,
   "id": "b8d4d5d0-0f9c-4c8f-afbd-e835410cb597",
   "metadata": {},
   "outputs": [
    {
     "data": {
      "text/html": [
       "<div><style>\n",
       ".dataframe > thead > tr,\n",
       ".dataframe > tbody > tr {\n",
       "  text-align: right;\n",
       "  white-space: pre-wrap;\n",
       "}\n",
       "</style>\n",
       "<small>shape: (5, 6)</small><table border=\"1\" class=\"dataframe\"><thead><tr><th>OG1</th><th>OG2</th><th>num_change1</th><th>num_change2</th><th>k</th><th>N</th></tr><tr><td>str</td><td>str</td><td>i64</td><td>i64</td><td>i64</td><td>i64</td></tr></thead><tbody><tr><td>&quot;c1&quot;</td><td>&quot;c2&quot;</td><td>554</td><td>542</td><td>188</td><td>1999</td></tr><tr><td>&quot;c1&quot;</td><td>&quot;c3&quot;</td><td>554</td><td>406</td><td>8</td><td>1999</td></tr><tr><td>&quot;c1&quot;</td><td>&quot;c4&quot;</td><td>554</td><td>518</td><td>-9</td><td>1999</td></tr><tr><td>&quot;c1&quot;</td><td>&quot;c5&quot;</td><td>554</td><td>569</td><td>-5</td><td>1999</td></tr><tr><td>&quot;c1&quot;</td><td>&quot;c6&quot;</td><td>554</td><td>559</td><td>-24</td><td>1999</td></tr></tbody></table></div>"
      ],
      "text/plain": [
       "shape: (5, 6)\n",
       "┌─────┬─────┬─────────────┬─────────────┬─────┬──────┐\n",
       "│ OG1 ┆ OG2 ┆ num_change1 ┆ num_change2 ┆ k   ┆ N    │\n",
       "│ --- ┆ --- ┆ ---         ┆ ---         ┆ --- ┆ ---  │\n",
       "│ str ┆ str ┆ i64         ┆ i64         ┆ i64 ┆ i64  │\n",
       "╞═════╪═════╪═════════════╪═════════════╪═════╪══════╡\n",
       "│ c1  ┆ c2  ┆ 554         ┆ 542         ┆ 188 ┆ 1999 │\n",
       "│ c1  ┆ c3  ┆ 554         ┆ 406         ┆ 8   ┆ 1999 │\n",
       "│ c1  ┆ c4  ┆ 554         ┆ 518         ┆ -9  ┆ 1999 │\n",
       "│ c1  ┆ c5  ┆ 554         ┆ 569         ┆ -5  ┆ 1999 │\n",
       "│ c1  ┆ c6  ┆ 554         ┆ 559         ┆ -24 ┆ 1999 │\n",
       "└─────┴─────┴─────────────┴─────────────┴─────┴──────┘"
      ]
     },
     "execution_count": 7,
     "metadata": {},
     "output_type": "execute_result"
    }
   ],
   "source": [
    "corgias_result.head()"
   ]
  },
  {
   "cell_type": "code",
   "execution_count": 8,
   "id": "2c2d6758-57d4-45e9-a611-4901d27cfa9d",
   "metadata": {},
   "outputs": [
    {
     "data": {
      "text/html": [
       "<div><style>\n",
       ".dataframe > thead > tr,\n",
       ".dataframe > tbody > tr {\n",
       "  text-align: right;\n",
       "  white-space: pre-wrap;\n",
       "}\n",
       "</style>\n",
       "<small>shape: (5, 8)</small><table border=\"1\" class=\"dataframe\"><thead><tr><th>gene1</th><th>gene2</th><th>norgs</th><th>t1</th><th>t2</th><th>concordant</th><th>discordant</th><th>k</th></tr><tr><td>str</td><td>str</td><td>i64</td><td>i64</td><td>i64</td><td>i64</td><td>i64</td><td>i64</td></tr></thead><tbody><tr><td>&quot;c1&quot;</td><td>&quot;c2&quot;</td><td>2000</td><td>554</td><td>542</td><td>210</td><td>22</td><td>188</td></tr><tr><td>&quot;c1&quot;</td><td>&quot;c3&quot;</td><td>2000</td><td>554</td><td>406</td><td>67</td><td>59</td><td>8</td></tr><tr><td>&quot;c1&quot;</td><td>&quot;c4&quot;</td><td>2000</td><td>554</td><td>518</td><td>79</td><td>88</td><td>-9</td></tr><tr><td>&quot;c1&quot;</td><td>&quot;c5&quot;</td><td>2000</td><td>554</td><td>569</td><td>81</td><td>86</td><td>-5</td></tr><tr><td>&quot;c1&quot;</td><td>&quot;c6&quot;</td><td>2000</td><td>554</td><td>559</td><td>68</td><td>92</td><td>-24</td></tr></tbody></table></div>"
      ],
      "text/plain": [
       "shape: (5, 8)\n",
       "┌───────┬───────┬───────┬─────┬─────┬────────────┬────────────┬─────┐\n",
       "│ gene1 ┆ gene2 ┆ norgs ┆ t1  ┆ t2  ┆ concordant ┆ discordant ┆ k   │\n",
       "│ ---   ┆ ---   ┆ ---   ┆ --- ┆ --- ┆ ---        ┆ ---        ┆ --- │\n",
       "│ str   ┆ str   ┆ i64   ┆ i64 ┆ i64 ┆ i64        ┆ i64        ┆ i64 │\n",
       "╞═══════╪═══════╪═══════╪═════╪═════╪════════════╪════════════╪═════╡\n",
       "│ c1    ┆ c2    ┆ 2000  ┆ 554 ┆ 542 ┆ 210        ┆ 22         ┆ 188 │\n",
       "│ c1    ┆ c3    ┆ 2000  ┆ 554 ┆ 406 ┆ 67         ┆ 59         ┆ 8   │\n",
       "│ c1    ┆ c4    ┆ 2000  ┆ 554 ┆ 518 ┆ 79         ┆ 88         ┆ -9  │\n",
       "│ c1    ┆ c5    ┆ 2000  ┆ 554 ┆ 569 ┆ 81         ┆ 86         ┆ -5  │\n",
       "│ c1    ┆ c6    ┆ 2000  ┆ 554 ┆ 559 ┆ 68         ┆ 92         ┆ -24 │\n",
       "└───────┴───────┴───────┴─────┴─────┴────────────┴────────────┴─────┘"
      ]
     },
     "execution_count": 8,
     "metadata": {},
     "output_type": "execute_result"
    }
   ],
   "source": [
    "original_result.head()"
   ]
  },
  {
   "cell_type": "code",
   "execution_count": 9,
   "id": "50aa8e47-2457-4baf-97d8-95429543b6c8",
   "metadata": {},
   "outputs": [
    {
     "name": "stdout",
     "output_type": "stream",
     "text": [
      "True True True\n"
     ]
    }
   ],
   "source": [
    "# check equivalence\n",
    "check_t1 = (corgias_result['num_change1'] == original_result['t1']).all()\n",
    "check_t2 = (corgias_result['num_change2'] == original_result['t2']).all()\n",
    "check_k = (corgias_result['k'] == original_result['k']).all()\n",
    "print(check_t1, check_t2, check_k)"
   ]
  }
 ],
 "metadata": {
  "kernelspec": {
   "display_name": "Python 3 (ipykernel)",
   "language": "python",
   "name": "python3"
  },
  "language_info": {
   "codemirror_mode": {
    "name": "ipython",
    "version": 3
   },
   "file_extension": ".py",
   "mimetype": "text/x-python",
   "name": "python",
   "nbconvert_exporter": "python",
   "pygments_lexer": "ipython3",
   "version": "3.11.6"
  }
 },
 "nbformat": 4,
 "nbformat_minor": 5
}
